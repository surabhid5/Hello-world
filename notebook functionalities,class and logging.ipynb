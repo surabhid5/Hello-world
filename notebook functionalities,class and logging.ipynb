{
 "cells": [
  {
   "cell_type": "code",
   "execution_count": null,
   "metadata": {},
   "outputs": [],
   "source": []
  },
  {
   "cell_type": "code",
   "execution_count": 6,
   "metadata": {},
   "outputs": [
    {
     "name": "stderr",
     "output_type": "stream",
     "text": [
      "FIND: Parameter format not correct\n"
     ]
    }
   ],
   "source": [
    "# ! is used to run bash commands eg. !pip install ..\n",
    "!find . -type f \n"
   ]
  },
  {
   "cell_type": "code",
   "execution_count": 7,
   "metadata": {},
   "outputs": [
    {
     "name": "stderr",
     "output_type": "stream",
     "text": [
      "UsageError: Line magic function `%linemagic` not found.\n"
     ]
    }
   ],
   "source": [
    "%linemagic"
   ]
  },
  {
   "cell_type": "code",
   "execution_count": 9,
   "metadata": {},
   "outputs": [
    {
     "data": {
      "application/json": {
       "cell": {
        "!": "OSMagics",
        "HTML": "Other",
        "SVG": "Other",
        "bash": "Other",
        "capture": "ExecutionMagics",
        "cmd": "Other",
        "debug": "ExecutionMagics",
        "file": "Other",
        "html": "DisplayMagics",
        "javascript": "DisplayMagics",
        "js": "DisplayMagics",
        "latex": "DisplayMagics",
        "markdown": "DisplayMagics",
        "perl": "Other",
        "prun": "ExecutionMagics",
        "pypy": "Other",
        "python": "Other",
        "python2": "Other",
        "python3": "Other",
        "ruby": "Other",
        "script": "ScriptMagics",
        "sh": "Other",
        "svg": "DisplayMagics",
        "sx": "OSMagics",
        "system": "OSMagics",
        "time": "ExecutionMagics",
        "timeit": "ExecutionMagics",
        "writefile": "OSMagics"
       },
       "line": {
        "alias": "OSMagics",
        "alias_magic": "BasicMagics",
        "autoawait": "AsyncMagics",
        "autocall": "AutoMagics",
        "automagic": "AutoMagics",
        "autosave": "KernelMagics",
        "bookmark": "OSMagics",
        "cd": "OSMagics",
        "clear": "KernelMagics",
        "cls": "KernelMagics",
        "colors": "BasicMagics",
        "conda": "PackagingMagics",
        "config": "ConfigMagics",
        "connect_info": "KernelMagics",
        "copy": "Other",
        "ddir": "Other",
        "debug": "ExecutionMagics",
        "dhist": "OSMagics",
        "dirs": "OSMagics",
        "doctest_mode": "BasicMagics",
        "echo": "Other",
        "ed": "Other",
        "edit": "KernelMagics",
        "env": "OSMagics",
        "gui": "BasicMagics",
        "hist": "Other",
        "history": "HistoryMagics",
        "killbgscripts": "ScriptMagics",
        "ldir": "Other",
        "less": "KernelMagics",
        "load": "CodeMagics",
        "load_ext": "ExtensionMagics",
        "loadpy": "CodeMagics",
        "logoff": "LoggingMagics",
        "logon": "LoggingMagics",
        "logstart": "LoggingMagics",
        "logstate": "LoggingMagics",
        "logstop": "LoggingMagics",
        "ls": "Other",
        "lsmagic": "BasicMagics",
        "macro": "ExecutionMagics",
        "magic": "BasicMagics",
        "matplotlib": "PylabMagics",
        "mkdir": "Other",
        "more": "KernelMagics",
        "notebook": "BasicMagics",
        "page": "BasicMagics",
        "pastebin": "CodeMagics",
        "pdb": "ExecutionMagics",
        "pdef": "NamespaceMagics",
        "pdoc": "NamespaceMagics",
        "pfile": "NamespaceMagics",
        "pinfo": "NamespaceMagics",
        "pinfo2": "NamespaceMagics",
        "pip": "PackagingMagics",
        "popd": "OSMagics",
        "pprint": "BasicMagics",
        "precision": "BasicMagics",
        "prun": "ExecutionMagics",
        "psearch": "NamespaceMagics",
        "psource": "NamespaceMagics",
        "pushd": "OSMagics",
        "pwd": "OSMagics",
        "pycat": "OSMagics",
        "pylab": "PylabMagics",
        "qtconsole": "KernelMagics",
        "quickref": "BasicMagics",
        "recall": "HistoryMagics",
        "rehashx": "OSMagics",
        "reload_ext": "ExtensionMagics",
        "ren": "Other",
        "rep": "Other",
        "rerun": "HistoryMagics",
        "reset": "NamespaceMagics",
        "reset_selective": "NamespaceMagics",
        "rmdir": "Other",
        "run": "ExecutionMagics",
        "save": "CodeMagics",
        "sc": "OSMagics",
        "set_env": "OSMagics",
        "store": "StoreMagics",
        "sx": "OSMagics",
        "system": "OSMagics",
        "tb": "ExecutionMagics",
        "time": "ExecutionMagics",
        "timeit": "ExecutionMagics",
        "unalias": "OSMagics",
        "unload_ext": "ExtensionMagics",
        "who": "NamespaceMagics",
        "who_ls": "NamespaceMagics",
        "whos": "NamespaceMagics",
        "xdel": "NamespaceMagics",
        "xmode": "BasicMagics"
       }
      },
      "text/plain": [
       "Available line magics:\n",
       "%alias  %alias_magic  %autoawait  %autocall  %automagic  %autosave  %bookmark  %cd  %clear  %cls  %colors  %conda  %config  %connect_info  %copy  %ddir  %debug  %dhist  %dirs  %doctest_mode  %echo  %ed  %edit  %env  %gui  %hist  %history  %killbgscripts  %ldir  %less  %load  %load_ext  %loadpy  %logoff  %logon  %logstart  %logstate  %logstop  %ls  %lsmagic  %macro  %magic  %matplotlib  %mkdir  %more  %notebook  %page  %pastebin  %pdb  %pdef  %pdoc  %pfile  %pinfo  %pinfo2  %pip  %popd  %pprint  %precision  %prun  %psearch  %psource  %pushd  %pwd  %pycat  %pylab  %qtconsole  %quickref  %recall  %rehashx  %reload_ext  %ren  %rep  %rerun  %reset  %reset_selective  %rmdir  %run  %save  %sc  %set_env  %store  %sx  %system  %tb  %time  %timeit  %unalias  %unload_ext  %who  %who_ls  %whos  %xdel  %xmode\n",
       "\n",
       "Available cell magics:\n",
       "%%!  %%HTML  %%SVG  %%bash  %%capture  %%cmd  %%debug  %%file  %%html  %%javascript  %%js  %%latex  %%markdown  %%perl  %%prun  %%pypy  %%python  %%python2  %%python3  %%ruby  %%script  %%sh  %%svg  %%sx  %%system  %%time  %%timeit  %%writefile\n",
       "\n",
       "Automagic is ON, % prefix IS NOT needed for line magics."
      ]
     },
     "execution_count": 9,
     "metadata": {},
     "output_type": "execute_result"
    }
   ],
   "source": [
    "%lsmagic"
   ]
  },
  {
   "cell_type": "code",
   "execution_count": 10,
   "metadata": {},
   "outputs": [
    {
     "data": {
      "text/plain": [
       "'C:\\\\Users\\\\91987'"
      ]
     },
     "execution_count": 10,
     "metadata": {},
     "output_type": "execute_result"
    }
   ],
   "source": [
    "%pwd"
   ]
  },
  {
   "cell_type": "code",
   "execution_count": 19,
   "metadata": {},
   "outputs": [
    {
     "name": "stdout",
     "output_type": "stream",
     "text": [
      " Volume in drive C is OS\n",
      " Volume Serial Number is 708A-63C3\n",
      "\n",
      " Directory of C:\\Users\\91987\n",
      "\n",
      "20-05-2021  13:53    <DIR>          .\n",
      "20-05-2021  13:53    <DIR>          ..\n",
      "14-05-2021  16:46               100 .bash_history\n",
      "29-04-2021  17:18    <DIR>          .conda\n",
      "13-05-2021  18:20                58 .gitconfig\n",
      "19-05-2021  19:57    <DIR>          .ipynb_checkpoints\n",
      "28-04-2021  16:30    <DIR>          .ipython\n",
      "01-05-2021  07:02    <DIR>          .jupyter\n",
      "27-04-2021  14:52                 7 .python_history\n",
      "28-04-2021  14:58                98 .scala_history\n",
      "04-01-2021  12:32    <DIR>          3D Objects\n",
      "28-04-2021  16:12    <DIR>          anaconda3\n",
      "12-05-2021  16:25    <DIR>          code_snippets-master\n",
      "04-01-2021  12:32    <DIR>          Contacts\n",
      "12-03-2021  18:08            90,525 D2R Descriptive analysis.ipynb\n",
      "15-02-2021  19:09    <DIR>          Documents\n",
      "19-05-2021  14:16    <DIR>          Downloads\n",
      "04-01-2021  12:32    <DIR>          Favorites\n",
      "26-04-2021  07:15    <DIR>          Learn-pyspark-in-easy-way-master\n",
      "04-01-2021  12:32    <DIR>          Links\n",
      "04-01-2021  12:32    <DIR>          Music\n",
      "12-05-2021  18:08             5,128 my_new\n",
      "19-05-2021  10:57    <DIR>          OneDrive\n",
      "17-02-2021  16:38    <DIR>          PycharmProjects\n",
      "08-09-2020  02:31            38,586 pyspark.ipynb\n",
      "17-05-2021  16:51            32,117 regex ,web scrapping and spark practice.ipynb\n",
      "04-01-2021  12:32    <DIR>          Saved Games\n",
      "04-01-2021  12:34    <DIR>          Searches\n",
      "01-05-2021  07:03    <DIR>          Spark-Programming-In-Python-master\n",
      "05-04-2021  18:43    <DIR>          temp\n",
      "19-05-2021  19:56    <DIR>          Untitled Folder\n",
      "12-03-2021  18:13            32,101 Untitled.ipynb\n",
      "19-05-2021  19:57                 0 untitled.txt\n",
      "26-04-2021  21:23             2,217 Untitled1.ipynb\n",
      "27-04-2021  16:07            28,896 Untitled2.ipynb\n",
      "20-05-2021  13:53             9,847 Untitled3.ipynb\n",
      "28-04-2021  16:36             2,406 Untitled4.ipynb\n",
      "15-01-2021  11:08    <DIR>          Videos\n",
      "              14 File(s)        242,086 bytes\n",
      "              24 Dir(s)  171,412,385,792 bytes free\n"
     ]
    }
   ],
   "source": [
    "%ls"
   ]
  },
  {
   "cell_type": "code",
   "execution_count": 20,
   "metadata": {},
   "outputs": [],
   "source": [
    "%matplotlib inline"
   ]
  },
  {
   "cell_type": "code",
   "execution_count": 2,
   "metadata": {},
   "outputs": [],
   "source": [
    "class song (object):\n",
    "    def __init__(self,lyrics):\n",
    "        self.lyrics = lyrics\n",
    "        \n",
    "    def sing_me_a_song (self):\n",
    "        for line in self.lyrics:\n",
    "            print (line)"
   ]
  },
  {
   "cell_type": "code",
   "execution_count": 4,
   "metadata": {},
   "outputs": [],
   "source": [
    "happy_bday = song([\"Happy bday to you,Happy bday to me,happy bday to dear,happy bday to you\"])"
   ]
  },
  {
   "cell_type": "code",
   "execution_count": 5,
   "metadata": {},
   "outputs": [],
   "source": [
    "nana = song([\"sad naal rahoge to aish karoge\"])"
   ]
  },
  {
   "cell_type": "code",
   "execution_count": 6,
   "metadata": {},
   "outputs": [
    {
     "name": "stdout",
     "output_type": "stream",
     "text": [
      "Happy bday to you,Happy bday to me,happy bday to dear,happy bday to you\n"
     ]
    }
   ],
   "source": [
    "happy_bday.sing_me_a_song()"
   ]
  },
  {
   "cell_type": "code",
   "execution_count": 7,
   "metadata": {},
   "outputs": [
    {
     "name": "stdout",
     "output_type": "stream",
     "text": [
      "sad naal rahoge to aish karoge\n"
     ]
    }
   ],
   "source": [
    "nana.sing_me_a_song()"
   ]
  },
  {
   "cell_type": "code",
   "execution_count": 8,
   "metadata": {},
   "outputs": [],
   "source": [
    "class gana():\n",
    "    def __init__(self,words):\n",
    "        self.words = words\n",
    "        \n",
    "    def verbalise(self):\n",
    "        for _ in self.words:\n",
    "            print(_)"
   ]
  },
  {
   "cell_type": "code",
   "execution_count": 9,
   "metadata": {},
   "outputs": [],
   "source": [
    "hamma = gana([\"e hamma,hamma,hamma,hamma\"])"
   ]
  },
  {
   "cell_type": "code",
   "execution_count": 10,
   "metadata": {},
   "outputs": [
    {
     "name": "stdout",
     "output_type": "stream",
     "text": [
      "e hamma,hamma,hamma,hamma\n"
     ]
    }
   ],
   "source": [
    "hamma.verbalise()"
   ]
  },
  {
   "cell_type": "code",
   "execution_count": 13,
   "metadata": {},
   "outputs": [],
   "source": [
    "lyrics = [\"ik ho gae hum aur tum\"]\n",
    "lulu = gana(lyrics)"
   ]
  },
  {
   "cell_type": "code",
   "execution_count": 14,
   "metadata": {},
   "outputs": [
    {
     "name": "stdout",
     "output_type": "stream",
     "text": [
      "ik ho gae hum aur tum\n"
     ]
    }
   ],
   "source": [
    "lulu.verbalise()"
   ]
  },
  {
   "cell_type": "code",
   "execution_count": 16,
   "metadata": {},
   "outputs": [],
   "source": [
    "class Employee():\n",
    "    'class for all the employees'\n",
    "    empcount = int(0)\n",
    "    \n",
    "    def __init__(self,Name,Salary):\n",
    "        self.name = Name\n",
    "        self.salary = Salary\n",
    "        \n",
    "    \n",
    "#     def empcount(self):\n",
    "#         print(\"display employee count: %d\" , %d Employee.empcount)\n",
    "        \n",
    "    def displayEmployee(self):\n",
    "        print(\"employee name: \" ,self.name)\n",
    "        print(\"employee salary: \" ,self.salary)\n",
    "        "
   ]
  },
  {
   "cell_type": "code",
   "execution_count": 9,
   "metadata": {},
   "outputs": [],
   "source": [
    "emp1 = Employee(\"hira\",2000)\n",
    "emp2 = Employee(\"lal\",3000)"
   ]
  },
  {
   "cell_type": "code",
   "execution_count": 10,
   "metadata": {},
   "outputs": [
    {
     "name": "stdout",
     "output_type": "stream",
     "text": [
      "employee name:  lal\n",
      "employee salary:  3000\n"
     ]
    }
   ],
   "source": [
    "emp2.displayEmployee()"
   ]
  },
  {
   "cell_type": "code",
   "execution_count": 11,
   "metadata": {},
   "outputs": [
    {
     "name": "stdout",
     "output_type": "stream",
     "text": [
      "display employee count:  <function Employee.empcount at 0x000001871B9A3790>\n"
     ]
    }
   ],
   "source": [
    "emp2.empcount()"
   ]
  },
  {
   "cell_type": "code",
   "execution_count": 21,
   "metadata": {},
   "outputs": [
    {
     "name": "stdout",
     "output_type": "stream",
     "text": [
      "{'__module__': '__main__', '__doc__': 'class for all the employees', 'empcount': 0, '__init__': <function Employee.__init__ at 0x000001871B9A3C10>, 'displayEmployee': <function Employee.displayEmployee at 0x000001871B9A3790>, '__dict__': <attribute '__dict__' of 'Employee' objects>, '__weakref__': <attribute '__weakref__' of 'Employee' objects>}\n"
     ]
    }
   ],
   "source": [
    "print(Employee.__dict__)"
   ]
  },
  {
   "cell_type": "code",
   "execution_count": 22,
   "metadata": {},
   "outputs": [],
   "source": [
    "class parent():\n",
    "    def __init__(self):\n",
    "        print(\"calling parent constructor\")\n",
    "        \n",
    "    def parentMethod(self):\n",
    "        print(\"calling parent method\")\n",
    "        \n",
    "        \n",
    "        "
   ]
  },
  {
   "cell_type": "code",
   "execution_count": 28,
   "metadata": {},
   "outputs": [],
   "source": [
    "class child(parent):\n",
    "    def __init__(self):\n",
    "        print(\"calling child constructor\")\n",
    "        \n",
    "    def childMethod(self):\n",
    "        print(\"calling child method\")"
   ]
  },
  {
   "cell_type": "code",
   "execution_count": 29,
   "metadata": {},
   "outputs": [
    {
     "name": "stdout",
     "output_type": "stream",
     "text": [
      "calling child constructor\n"
     ]
    }
   ],
   "source": [
    "ins = child()"
   ]
  },
  {
   "cell_type": "code",
   "execution_count": 30,
   "metadata": {},
   "outputs": [
    {
     "name": "stdout",
     "output_type": "stream",
     "text": [
      "calling child method\n"
     ]
    }
   ],
   "source": [
    "ins.childMethod()"
   ]
  },
  {
   "cell_type": "code",
   "execution_count": 31,
   "metadata": {},
   "outputs": [
    {
     "name": "stdout",
     "output_type": "stream",
     "text": [
      "calling parent method\n"
     ]
    }
   ],
   "source": [
    "ins.parentMethod()"
   ]
  },
  {
   "cell_type": "code",
   "execution_count": null,
   "metadata": {},
   "outputs": [],
   "source": [
    "logging.debug(\"This is a debug message\")\n",
    "logging.info(\"This is an info message\")\n",
    "logging.warning(\"This is a warning message\")\n",
    "logging.error(\"This is an error message\")\n",
    "logging.critical(\"This is critical\")"
   ]
  },
  {
   "cell_type": "code",
   "execution_count": 1,
   "metadata": {},
   "outputs": [],
   "source": [
    "import logging"
   ]
  },
  {
   "cell_type": "code",
   "execution_count": 3,
   "metadata": {},
   "outputs": [],
   "source": [
    "logging.basicConfig(filename=\"D:/logfile/my.log\",level =logging.INFO,format=\"%(levelname)s:%(name)s:%(message)s\")\n",
    "\n",
    "class employee:\n",
    "    def __init__(self,Name):\n",
    "        self.first = Name\n",
    "        \n",
    "        logging.info('created employee {}'.format(self.first))\n",
    "        \n",
    "emp = employee(\"surabhi\")        "
   ]
  },
  {
   "cell_type": "code",
   "execution_count": 6,
   "metadata": {},
   "outputs": [],
   "source": [
    "logging.basicConfig(filename=\"D:/logfile/sample.log\",level=logging.DEBUG,format=\"%(asctime)s:%(name)s:%(message)s\")\n",
    "                    \n",
    "                 \n",
    "def add(x,y):\n",
    "    return x+y\n",
    "\n",
    "def subtract(x,y):\n",
    "    return x-y\n",
    "\n",
    "def multiply(x,y):\n",
    "    return x*y\n",
    "\n",
    "def devide(x,y):\n",
    "    return x/y\n",
    "\n",
    "num_1 = 10\n",
    "num_2 = 5\n",
    "\n",
    "add_result = add(num_1,num_2)\n",
    "logging.info('Add {}+{} = {}'.format(num_1,num_2,add_result))\n",
    "\n",
    "subtract_result = subtract(num_1,num_2)\n",
    "logging.info('subtract {}+{} = {}'.format(num_1,num_2,subtract_result))\n",
    "\n",
    "multiply_result = multiply(num_1,num_2)\n",
    "logging.info('multiply {}+{} = {}'.format(num_1,num_2,multiply_result))\n",
    "\n",
    "devide_result = devide(num_1,num_2)\n",
    "logging.info('devide {}+{} = {}'.format(num_1,num_2,devide_result))\n",
    "\n",
    "\n"
   ]
  },
  {
   "cell_type": "code",
   "execution_count": 2,
   "metadata": {},
   "outputs": [],
   "source": [
    "logger = logging.getLogger(__name__)\n",
    "logger.setLevel(logging.INFO)\n",
    "\n",
    "formatter = logging.Formatter('%(levelname)s:%(name)s:%(message)s')\n",
    "\n",
    "file_handler = logging.FileHandler('D:/logfile/My.log')\n",
    "file_handler.setFormatter(formatter)\n",
    "logger.addHandler(file_handler)\n",
    "\n",
    "\n",
    "class employee:\n",
    "    def __init__(self,Name):\n",
    "        self.first = Name\n",
    "        \n",
    "        logger.info('created employee {}'.format(self.first))\n",
    "        \n",
    "emp = employee(\"surabhi\")       "
   ]
  },
  {
   "cell_type": "code",
   "execution_count": 5,
   "metadata": {},
   "outputs": [
    {
     "name": "stderr",
     "output_type": "stream",
     "text": [
      "Add 10+5 = 15\n",
      "subtract 10+5 = 5\n",
      "multiply 10+5 = 50\n",
      "devide 10+5 = 2.0\n"
     ]
    }
   ],
   "source": [
    "logger = logging.getLogger(__name__)\n",
    "logger.setLevel(logging.INFO)\n",
    "\n",
    "formatter = logging.Formatter('%(asctime)s:%(name)s:%(message)s')\n",
    "\n",
    "file_handler = logging.FileHandler('D:/logfile/sample.log')\n",
    "file_handler.setFormatter(formatter)\n",
    "\n",
    "stream_handler=logging.StreamHandler()\n",
    "file_handler.setFormatter(formatter)\n",
    "\n",
    "logger.addHandler(file_handler)\n",
    "logger.addHandler(stream_handler)\n",
    "\n",
    "\n",
    "def add(x,y):\n",
    "    return x+y\n",
    "\n",
    "def subtract(x,y):\n",
    "    return x-y\n",
    "\n",
    "def multiply(x,y):\n",
    "    return x*y\n",
    "\n",
    "def devide(x,y):\n",
    "    return x/y\n",
    "\n",
    "num_1 = 10\n",
    "num_2 = 5\n",
    "\n",
    "add_result = add(num_1,num_2)\n",
    "logger.info('Add {}+{} = {}'.format(num_1,num_2,add_result))\n",
    "\n",
    "subtract_result = subtract(num_1,num_2)\n",
    "logger.info('subtract {}+{} = {}'.format(num_1,num_2,subtract_result))\n",
    "\n",
    "multiply_result = multiply(num_1,num_2)\n",
    "logger.info('multiply {}+{} = {}'.format(num_1,num_2,multiply_result))\n",
    "\n",
    "devide_result = devide(num_1,num_2)\n",
    "logger.info('devide {}+{} = {}'.format(num_1,num_2,devide_result))\n"
   ]
  },
  {
   "cell_type": "code",
   "execution_count": null,
   "metadata": {},
   "outputs": [],
   "source": []
  }
 ],
 "metadata": {
  "kernelspec": {
   "display_name": "Python 3",
   "language": "python",
   "name": "python3"
  },
  "language_info": {
   "codemirror_mode": {
    "name": "ipython",
    "version": 3
   },
   "file_extension": ".py",
   "mimetype": "text/x-python",
   "name": "python",
   "nbconvert_exporter": "python",
   "pygments_lexer": "ipython3",
   "version": "3.8.5"
  }
 },
 "nbformat": 4,
 "nbformat_minor": 4
}
